{
 "cells": [
  {
   "cell_type": "code",
   "execution_count": 1,
   "metadata": {},
   "outputs": [],
   "source": [
    "from ipywidgets import interact\n",
    "import ipywidgets as widgets"
   ]
  },
  {
   "cell_type": "code",
   "execution_count": 2,
   "metadata": {},
   "outputs": [],
   "source": [
    "def gerador (linhas, colunas):\n",
    "    matriz = []\n",
    "    for linha in range(linhas):\n",
    "        lista = []\n",
    "        for coluna in range(colunas):\n",
    "            elementoStr = input(f'Insira o número da linha {linha} e da coluna {coluna}: ')\n",
    "            elemento = float(elementoStr)\n",
    "            lista.append(elemento)\n",
    "        print(lista)\n",
    "        matriz.append(lista)\n",
    "    return matriz\n"
   ]
  },
  {
   "cell_type": "code",
   "execution_count": 3,
   "metadata": {},
   "outputs": [
    {
     "data": {
      "application/vnd.jupyter.widget-view+json": {
       "model_id": "2254ccaf9a22486abda62fec3276d59d",
       "version_major": 2,
       "version_minor": 0
      },
      "text/plain": [
       "interactive(children=(IntText(value=1, description='Linhas:'), IntText(value=1, description='Colunas:'), Outpu…"
      ]
     },
     "metadata": {},
     "output_type": "display_data"
    },
    {
     "data": {
      "text/plain": [
       "<function __main__.main(linhas, colunas)>"
      ]
     },
     "execution_count": 3,
     "metadata": {},
     "output_type": "execute_result"
    }
   ],
   "source": [
    "def main (linhas, colunas):\n",
    "    matriz = gerador(linhas, colunas)\n",
    "    return matriz\n",
    "\n",
    "interact(main, linhas = widgets.IntText(value = 1, description = 'Linhas:', disabled = False), colunas = widgets.IntText(value = 1, description = 'Colunas:', disabled = False))"
   ]
  }
 ],
 "metadata": {
  "kernelspec": {
   "display_name": "base",
   "language": "python",
   "name": "python3"
  },
  "language_info": {
   "codemirror_mode": {
    "name": "ipython",
    "version": 3
   },
   "file_extension": ".py",
   "mimetype": "text/x-python",
   "name": "python",
   "nbconvert_exporter": "python",
   "pygments_lexer": "ipython3",
   "version": "3.9.16"
  },
  "orig_nbformat": 4
 },
 "nbformat": 4,
 "nbformat_minor": 2
}
