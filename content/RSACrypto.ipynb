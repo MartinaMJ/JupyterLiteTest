{
 "cells": [
  {
   "cell_type": "markdown",
   "id": "6f80c530",
   "metadata": {},
   "source": [
    "## RSA Cryptography: An application of modular arithmetics\n",
    "\n",
    "   The word **cryptography** comes from two Greek words: *kryptós*, which means \"hidden\", and *graphein*, which means \"to write\". Therefore, it refers to the practice of developing and studying techniques to secure information. Civilization has had the necessity to hide and protect information since ancient times: the first occurences of encrypted information have been found in Egypt, and date back to 1000 B.C. \n",
    "\n",
    "   Throughout the last centuries, cryptography evolved into a complex field within Mathematics and Computer Science. Currently, cryptography algorithms seek to guarantee four principals in regards to manipulating and sending encrypted information:\n",
    "    \n",
    "   **1 - Confidentiality:** The encrypted information can only be accessed by the recipient and no one else.\n",
    "   \n",
    "   **2 - Integrity:** The encyption algorithm and the pathway between the sender and recipient must not alter the original information.\n",
    "   \n",
    "   **3 - Non-repudiation:** The sender must not stay anonymous. It must be possible to track the sender of the encrypted message.\n",
    "   \n",
    "   **4 - Authentication:** The identities of the sender and the recipient must be safely confirmed.\n",
    "   \n",
    "### What constitutes a cryptographic algorithm?\n",
    "\n",
    "   Currently, there two main types of cryptographic algorithms: **assymetric cryptography and symmetric cryptography**. These two classifications differentiate themselves in the use of encryption keys. In cryptography, a key is a piece of information that is used in the algorithm to encrypt or decrpyt the message. The use of keys guarantee authetication and confidentiality. The original information is known as plaintext, and the encrypted information is known as ciphertext. \n",
    "   \n",
    "   **Symmetric cryptography:** Symmetric cryptography establishes that the sender and recipient share the same key. The key is a shared secret between the sender and the recipient. This guarantees **confidentiality**, because only the person who has the same key as the sender can decrypt the ciphertext. **Non-repudiation** is also guaranteed, because the recipient knows that sender has the same key. **Authetication** is present, because only the shared key verifies the the sender's and the recipient's identities. Finally, the shared key allows the recipient to verify if the pathway or the algorithm altered the original message, guaranteeing **integrity**. \n",
    "   \n",
    "   Although symmetric cryptography seems to be the most intuitive form of cryptographic algorithms, it creates another security problem: it is difficult to create a safe way to share the key between the sender and the recipient. If the sender's or recepient's information is intercepted by a third party somehow, it is possible to discover the key and decrypt the ciphertext. Attacks towards symmetric cryptography algorithms use this strategy: known-plaintext attacks are conducted by attackers who have access to the specific plaintext and the final ciphertext. By analizing the two different information carefully, it maybe possible to discover the key.\n",
    "   \n",
    "   Furthermore, symmetric cryptography ideally demands that each sender-recipient pair have their own key. If the sender is connected to various different recipients, and each one has their own key, the complexity of the key mangemant environment increases greatly, making it even harder to assure safety. \n",
    "   \n",
    "   **Asymmetric cryptography:** Given the problems related to key security in symmetric cryptography, American mathematicians and cryptographers Whitfield Diffie and Martin Hellman proposed in 1976 the public key cryptography system, also known as asymmetric cryptography. In this scenario, instead of the key itself being the shared secret between the sender and the recepient, each one of the parties involved has two keys: a public key (which is known to everyone and guarantees **non-repudiation**) and a private key (which is kept secret and allows **confidentiality** and **authetication**). Both keys are used to encrypt and decrypt. If plaintext is encrypted using a sender's public key, only the sender's private key will be able to decrpyt it. If plaintext is encrypted with the sender's private key, only the sender's public key wil decrypt it. This adds a second layer of safety, because truly confidential information is necessary to obtain information, assuring **integrity**.  \n",
    "   \n",
    "   \n",
    "### What is RSA Cryptography?\n",
    "\n",
    "   Just a few years after the assymetric cryptography system was proposed, MIT mathematicians Ron Rivest, Adi Shamir and Leonard Adleman elaborated their own cryptographic algorithm. \n",
    "   \n",
    "   Interestingly, the premise of RSA Chryptography was firstly anounced by British mathematician William Stanley Jevons little more than 100 years before the creation of the RSA algorithm. In his 1874 book *The Principles of Science*, he wrote: \n",
    "   \"Can the reader say what two numbers multiplied together will produce the number 8616460799? I think it unlikely that anyone but myself will ever know.\"\n",
    "   \n",
    "   The idea behind the usage of public and private keys is similar to the one anounced by William Stanley Jevons: the public and private keys create a unique combination for each sender and recipient.\n",
    "   \n",
    "### What is Modular Arithmetics?\n",
    "\n",
    "   In mathematics, modular arithmetics is an algebraic system in which the numbers \"return\" to smaller values when they have reached a limiting value, named the modulo (or modulus). Time is organized using modular arithmetics: a week has seven days, and after the seventh day of the week has passed, we return to the first day of the week. Note that modular arithmetics only applies to integers. After defining a modulo, the integers that belong in the set range from zero to the integer prior the value of the modulo. \n",
    "   It is interesting to note that modular arithmetics is done under a finite algebraic structure. ALgebraic structures are an indispensable part of modern mathematics. They can be classified differently depending on the properties of the operations that are done with its elements. We can say that most classifications of are based on the presence or absence of the following properties:\n",
    "   \n",
    "   1- Associativity: $a * (b * c) = (a * b) * c$\n",
    "   \n",
    "   2- Identity element: $a * i = a$\n",
    "   \n",
    "   3- Inverse element: $a * z = i$\n",
    "   \n",
    "   4- Commutativity: $a * b = b * a$\n",
    "   \n",
    "   5- Closure: $a \\in D, b \\in D, a * b = c \\iff c \\in D$\n",
    "   \n",
    "   The most studied algebraic structures are:\n",
    "   \n",
    "   1- Groups: A structure that is closed, that is defined with an operation that is associative, that contains one identity element and each element has one inverse element.\n",
    "   \n",
    "   2- Abelian group: A group that also is commutative. \n",
    "   \n",
    "   3- Ring: A structure that allows two operations, addition and multiplication. Under addition, a ring has the properties of an abelian group. Under multiplication, a ring is associative and distribuitive, that is:\n",
    "   \n",
    "   Distribution: $a \\in D, b \\in D, a * b = c \\iff c \\in D$\n",
    "   \n",
    "   4- Field: A ring that is an abelian group for non-zero numbers under multiplication. Note that zero refers to the identity element relative to addition.\n",
    "   \n",
    "   Particularly, the mathematical foundations of RSA cryptography are related to group theory. However, fields are the algebraic structures that allow vector spaces, with those being the structures in which we study linear algebra. \n",
    "   \n",
    "   \n",
    "### The Algorithm\n",
    "    \n",
    "   The algorithm uses two main principals of number arithmetic and finite group theory: prime numbers and modular arithmetics.\n",
    "    \n",
    "   **Key Generation:** \n",
    "   \n",
    "   1 - Select two very large prime numbers. Those will be called *p* and *q*.  \n",
    "   \n",
    "   2 - Compute *n = p.q*. This number will be part of the public key.\n",
    "   \n",
    "   3 - Compute Euler Totient Function &Phi;$(n) = (p-1)(q-1)$. This is an interesting function, which reveals the amount of numbers that are coprime to *p* and *q*.\n",
    "   \n",
    "   4 - Choose a number *e* that must be coprime to &Phi;$(n)$. Two numbers are coprime if there are no prime numbers that divide both. *e* will be the rest of the public key. \n",
    "   \n",
    "   5 - Compute the modular inverse of *e* to the modulus of &Phi;$(n)$. That number will be called *d* and is the private key. In other words, to compute *d*, you must use the equation: $$ de = 1 (mod \\Phi) $$ A modular inverse will always exist. We can affirm this because the coprime numbers between 0 to *n-1* form a group of modulo *n* under multiplication. As it was said before, a group guarantees the existence of an inverse for each of its elements under a certain operation.\n",
    "   \n",
    "   We can infer from the affirmation above why it is uncommon to see applications in finite sets: many of the properties previously mentioned are not observed. RSA cryptography is likely the most important application of finite groups in modern times.\n",
    "   \n",
    "   **Encryption and Decryption:**\n",
    "   \n",
    "   Suppose you wish to send a number *m* to your friend, who has *e* and &Phi; as his public keys. In order to encrypt *m* you must apply the following equation: \n",
    "   \n",
    "$$ c = m^e (mod n)$$\n",
    "\n",
    "c is now the encrypted message. \n",
    "\n",
    "   For your friend to decrypt *c*, he must do the following:\n",
    "\n",
    "$$ m = c^d (mod n) $$\n",
    "\n",
    "### The Magic of Coprime Numbers\n",
    "\n",
    "It might seem strange that calculating the multiplicative inverse of a number using a certain modulo will help you find the original message that was encoded in another modulo. However, there are a few mathematical theorems that guarantee such procedure. \n",
    "\n",
    "**Fermat's Little Theorem:** Originally proposed by French mathematician Pierre de Fermat in 1640, it states that if *p* is prime, *a* is an integer coprime to *p*, then:\n",
    "\n",
    "$$ a^{(p-1)} = 1  mod(p)$$ \n",
    "\n",
    "**Euler's Theorem:** A generalization of Fermat's Little Theorem, it states that if b and a are coprime integers, then:\n",
    "\n",
    "$$a^{\\Phi(b)} = 1 (mod b)$$\n",
    "\n",
    "where &Phi; is Euler's totient function $\\Phi(b) = b-1$\n",
    "\n",
    "On an important note, the Totient Function for a non-prime number is equal to the product of each of the primes that compose it reduced in 1. You can see this being used in the previous section.\n",
    "\n",
    "We know that RSA uses the equation $de = 1 (mod \\Phi)$ to find the private key. We know *e* and &Phi; are coprimes. One of the properties of coprimes is that a number will always have a multiplicative inverse under a modulo that is coprime to it. That is why the equation above is always true. \n",
    "\n",
    "Knowing congruency in modular arithmetics, we know that if we add to the value of &Phi; to the right side of the equation, that is still equal to *de*. In other words: \n",
    "\n",
    "$$de = 1 + \\Phi (mod \\Phi)$$.\n",
    "\n",
    "If we elevate both sides of the equation above to the original message (*m*) and define modulo *n*, we have: \n",
    "\n",
    "$$m^{de} = m^{1+\\Phi} (mod n)$$ \n",
    "\n",
    "$$m^{de} =  mm^{\\Phi} (mod n)$$\n",
    "\n",
    "Using Euler's theorem, we know that $m^{\\Phi}$ is equal to one. Therefore: $$m^{de} = m (mod n)$$\n",
    "\n",
    "If we define $c = m^e (mod n)$, and we elevate c to d ($ c^d (mod n)$), we will obtain m.\n",
    "\n",
    "That is the mathematical basis of this cryptosystem. \n",
    "\n",
    "Notice that if *d* is unknown, it is impossible to find the original message. \n",
    "\n",
    "### Conclusion\n",
    "\n",
    "It is interesting to note that RSA Cryptography is only effective because mathematicians have still not found a repeat pattern that models the placement of prime numbers in the integer group. If this pattern is found, it would be easier to find prime numbers that are coprime to *e*, and consequentely find the private key. On the other hand, some experts say that, due to the increasing capacity of modern quantum computers, it will be possible to find private RSA keys with brute force. \n",
    "Nevertheless, it is still fascinating to see how almost 400 year old theorems have been applied to encrypt information, something that humanity has always tried to accomplish. Perhaps, in the near future, we will observe even more elaborate mathematical theorems being applied to encrypt information. "
   ]
  },
  {
   "cell_type": "markdown",
   "id": "25d334eb",
   "metadata": {},
   "source": [
    "### Example\n",
    "\n",
    "See and example of RSA encryption below. \n",
    "\n",
    "Choose the prime numbers and type any text message into the box below and you will see its encryption. \n",
    "\n",
    "Here you will likely use very small prime numbers. RSA's creators instruct to use with very large prime numbers. That makes it even more difficult to figure out the private keys."
   ]
  },
  {
   "cell_type": "code",
   "execution_count": 1,
   "id": "8c42f779",
   "metadata": {},
   "outputs": [
    {
     "name": "stdout",
     "output_type": "stream",
     "text": [
      "Note: you may need to restart the kernel to use updated packages.\n"
     ]
    }
   ],
   "source": [
    "%pip install -q ipywidgets==8.0.7 "
   ]
  },
  {
   "cell_type": "code",
   "execution_count": 2,
   "id": "b4ccd477",
   "metadata": {},
   "outputs": [],
   "source": [
    "from math import sqrt\n",
    "def testPrime(p, q):\n",
    "    prime_flag = 0\n",
    "    args = [p,q]\n",
    "    for index in [0,1]:\n",
    "        n = args[index]\n",
    "        if(n > 1):\n",
    "            for i in range(2, int(sqrt(n)) + 1):\n",
    "                if (n % i == 0):\n",
    "                    prime_flag = 1\n",
    "                    break\n",
    "                else:\n",
    "                    continue\n",
    "    return prime_flag"
   ]
  },
  {
   "cell_type": "code",
   "execution_count": 3,
   "id": "041e7a3a",
   "metadata": {},
   "outputs": [],
   "source": [
    "def checkcoprimes(p, q, e):\n",
    "    divisoresp = []\n",
    "    divisoresq = []\n",
    "    divisorese = []\n",
    "    args = [p-1, q-1, e]\n",
    "    for num in args:\n",
    "        i = 1\n",
    "        raiz = num/2\n",
    "        if num == p-1:\n",
    "            while (i <= num/2):\n",
    "                if ((p-1) % i == 0):\n",
    "                    divisoresp.append(i)\n",
    "                i = i+1\n",
    "        if num == q-1:\n",
    "            while (i <= num/2):\n",
    "                if ((q-1) % i == 0):\n",
    "                    divisoresq.append(i)\n",
    "                i = i+1\n",
    "        if num == e:\n",
    "            while (i <= num/2):\n",
    "                if ((e % i) == 0):\n",
    "                    divisorese.append(i)\n",
    "                i = i+1\n",
    "    divphi = divisoresp + divisoresq\n",
    "    commons1 = set(divphi)\n",
    "    commons = commons1 & set(divisorese)\n",
    "    if len(commons) == 1:\n",
    "        return 1\n",
    "    else:\n",
    "        return 0"
   ]
  },
  {
   "cell_type": "code",
   "execution_count": 4,
   "id": "a812b9be",
   "metadata": {},
   "outputs": [],
   "source": [
    "def encryption(i, e, n):\n",
    "    message_list = list(i)\n",
    "    encryptedmessage = []\n",
    "    for indice in range(len(message_list)):\n",
    "        encrypt = pow(ord(i[indice]), e, n)\n",
    "        encryptedmessage.append(encrypt)\n",
    "    return encryptedmessage"
   ]
  },
  {
   "cell_type": "code",
   "execution_count": 5,
   "id": "6d1b0e26",
   "metadata": {},
   "outputs": [
    {
     "data": {
      "application/vnd.jupyter.widget-view+json": {
       "model_id": "333da232c40d4a40a9f97c1f14da3945",
       "version_major": 2,
       "version_minor": 0
      },
      "text/plain": [
       "HBox(children=(Text(value='Hello World', description='Message:', placeholder='Enter'), IntText(value=11, descr…"
      ]
     },
     "metadata": {},
     "output_type": "display_data"
    },
    {
     "data": {
      "application/vnd.jupyter.widget-view+json": {
       "model_id": "16760a53ac02410f802f8bbff192ec47",
       "version_major": 2,
       "version_minor": 0
      },
      "text/plain": [
       "Output()"
      ]
     },
     "metadata": {},
     "output_type": "display_data"
    }
   ],
   "source": [
    "import ipywidgets as widgets\n",
    "from ipywidgets import VBox, HBox\n",
    "i = widgets.Text(value='Hello World', placeholder='Enter', description='Message:', disabled=False)\n",
    "p = widgets.IntText(value = 11, description = 'p:', disabled = False)\n",
    "q = widgets.IntText(value = 13, description = 'q:', disabled = False)\n",
    "entries = HBox([i, p, q])\n",
    "def calcKeys(p,q):\n",
    "    prime_flag = testPrime(p, q)\n",
    "    if prime_flag == 0:\n",
    "        n = p*q\n",
    "        phi = (p-1)*(q-1)\n",
    "        print(f\"n = {n}\")\n",
    "        print(f\"phi = {phi}\")\n",
    "    else:\n",
    "        print(\"Either p or q is not prime!\")\n",
    "out1 = widgets.interactive_output(calcKeys, {'p': p, 'q': q,})\n",
    "\n",
    "display(entries, out1)"
   ]
  },
  {
   "cell_type": "markdown",
   "id": "a5f852cd",
   "metadata": {},
   "source": [
    "Now, enter a coprime number to &Phi;. That will be *e*."
   ]
  },
  {
   "cell_type": "code",
   "execution_count": 6,
   "id": "b32d7dbf",
   "metadata": {},
   "outputs": [
    {
     "data": {
      "application/vnd.jupyter.widget-view+json": {
       "model_id": "293a2e9e508b4c95b4a381cd850466bf",
       "version_major": 2,
       "version_minor": 0
      },
      "text/plain": [
       "IntText(value=1, description='e')"
      ]
     },
     "metadata": {},
     "output_type": "display_data"
    },
    {
     "data": {
      "application/vnd.jupyter.widget-view+json": {
       "model_id": "4b9269c3b4d442e8939034c6566f76cf",
       "version_major": 2,
       "version_minor": 0
      },
      "text/plain": [
       "Output()"
      ]
     },
     "metadata": {},
     "output_type": "display_data"
    }
   ],
   "source": [
    "def intermed(p, q, e, i):\n",
    "    n = p*q\n",
    "    isprime = testPrime(p, q)\n",
    "    encryptedString = \"\"\n",
    "    if isprime == 0:\n",
    "        iscoprime = checkcoprimes(p, q, e)\n",
    "        if iscoprime == 0:\n",
    "            print(\"e is not coprime to phi!\")\n",
    "            return 0\n",
    "        else:\n",
    "            print(\"e is coprime to phi!\")\n",
    "    else:\n",
    "        print(\"Either p or q is not prime!\")\n",
    "        return 1\n",
    "    encrypted = encryption(i, e, n)\n",
    "    print(\"Encrypted message:\", end=\" \")\n",
    "    for elem in encrypted:\n",
    "        print(elem, end=\" \")\n",
    "    return encrypted\n",
    "e = widgets.IntText(value = 1, description = 'e', disabled = False)\n",
    "out2 = widgets.interactive_output(intermed, {'p':p, 'q':q, 'e':e, 'i':i})\n",
    "display(e, out2)"
   ]
  },
  {
   "cell_type": "markdown",
   "id": "89857495",
   "metadata": {},
   "source": [
    "You might ask yourself: how do I find d?\n",
    "\n",
    "For that, you have to consider some particularities of modular arithmetics: $$ax = b (mod m) $$\n",
    "\n",
    "The linear congruency above, unlike equalities over the real numbers, can have many or no solutions. The linear congruency only has solutions if the greatest common denominator between a and m also divides b. \n",
    "\n",
    "So, if we have the equation $de = 1 (mod \\Phi)$, we can conclude that d and e are coprimes. \n",
    "\n",
    "We can also apply Bezout's Identity, that states that: Let a and b be integers with greatest common denominator c. There always exists integers x and y that satisfy the equation ax + by = c.\n",
    "\n",
    "If we rewrite the equation above in order to fit the format of a diophantine equation, we would get: $$de + kphi = 1$$.\n",
    "\n",
    "Now, we need to find the values of d and k, since e and phi are already known. For that, we will apply the extended Euclidian algorithm. Note that, without &Phi; it is impossible to form the diophantine equation. That is why it is part of the private key.\n"
   ]
  },
  {
   "cell_type": "code",
   "execution_count": 7,
   "id": "81da3039",
   "metadata": {},
   "outputs": [],
   "source": [
    "def extendedEuclid(phi, e): \n",
    "    if e == 0:\n",
    "        return (1, 0, phi)\n",
    "    else :\n",
    "        k, d, gcd = extendedEuclid(e, phi % e) \n",
    "        return d, k - d * (phi // e), gcd           \n",
    "\n",
    "def modularInverse(e, p, q):\n",
    "    phi = (p-1)*(q-1)\n",
    "    k, d, gcd = extendedEuclid(phi, e)\n",
    "    if gcd == 1 :\n",
    "        print(\"d: \", end = \" \")\n",
    "        print(d % phi)\n",
    "        return d % phi\n",
    "    else:\n",
    "        return None  \n"
   ]
  },
  {
   "cell_type": "code",
   "execution_count": 8,
   "id": "9d456d8a",
   "metadata": {},
   "outputs": [
    {
     "data": {
      "application/vnd.jupyter.widget-view+json": {
       "model_id": "d29a7ee601714db6bc08e9ede8f487bb",
       "version_major": 2,
       "version_minor": 0
      },
      "text/plain": [
       "Output()"
      ]
     },
     "metadata": {},
     "output_type": "display_data"
    }
   ],
   "source": [
    "def decryption(p, q, e, i):\n",
    "    isprime = testPrime(p, q)\n",
    "    if isprime == 0:\n",
    "        iscoprime = checkcoprimes(p, q, e)\n",
    "        if iscoprime == 0:\n",
    "            print(\"e is not coprime to phi!\")\n",
    "            return 0\n",
    "        else:\n",
    "            d = modularInverse(e, p, q)\n",
    "            n = p*q\n",
    "            encrypted = encryption(i, e, n)\n",
    "            for elem in encrypted:\n",
    "                decrypted = pow(elem, d, n)\n",
    "                decryptedChar = chr(decrypted)\n",
    "                print(decryptedChar, end=\" \")\n",
    "            \n",
    "    else:\n",
    "        print(\"Either p or q is not prime!\")\n",
    "        return 1 \n",
    "    \n",
    "out3 = widgets.interactive_output(decryption, {'p':p, 'q':q, 'e':e, 'i':i})\n",
    "display(out3)"
   ]
  },
  {
   "cell_type": "code",
   "execution_count": null,
   "id": "c4714c6c",
   "metadata": {},
   "outputs": [],
   "source": []
  }
 ],
 "metadata": {
  "kernelspec": {
   "display_name": "Python 3 (ipykernel)",
   "language": "python",
   "name": "python3"
  },
  "language_info": {
   "codemirror_mode": {
    "name": "ipython",
    "version": 3
   },
   "file_extension": ".py",
   "mimetype": "text/x-python",
   "name": "python",
   "nbconvert_exporter": "python",
   "pygments_lexer": "ipython3",
   "version": "3.9.16"
  }
 },
 "nbformat": 4,
 "nbformat_minor": 5
}
