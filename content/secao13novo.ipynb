{
 "cells": [
  {
   "cell_type": "markdown",
   "id": "925534e3-b5a2-419e-9904-3b6c3997289c",
   "metadata": {},
   "source": [
    "# Bases and Dimension\n",
    "\n",
    "Given a space $\\mathcal{E}$, it may be quite useful to be able to\n",
    "address (or to access) each and every element of $\\mathcal{E}$ using a\n",
    "set of unequivocal coordinates. Latitudes and longitudes provide such\n",
    "coordinates for geographical positioning on earth’s surface. For a more\n",
    "generic space, we may need to define a basis for the space in more\n",
    "appropriate terms.\n",
    "\n",
    "Given a space $\\mathcal{E}$ defined over a field $\\mathbb{F}$, a set of\n",
    "elements $\\{\\mathbf{v}_i\\}\\subseteq\\mathcal{E}$, $i=1,\\ 2,\\ \\ldots,\\ r$,\n",
    "is a *basis* of $\\mathcal{E}$ if the elements\n",
    "$\\mathbf{v}_i\\in\\{\\mathbf{v}_i\\}$ are linearly independent and any\n",
    "element $\\mathbf{u}\\in\\mathcal{E}$ can be written as a linear\n",
    "combination of $\\mathbf{v}_i$. Another way to put it is to say that the\n",
    "elements $\\mathbf{v}_i$, $i=1,\\ 2,\\ \\ldots,\\ r$ span the whole space\n",
    "$\\mathcal{E}$ and no other set of elements with less than $r$ elements\n",
    "spans the space $\\mathcal{E}$.\n",
    "\n",
    "As many different coordinate systems may prove equally accurate for\n",
    "determining position on the earth’s surface, many different bases may\n",
    "span a given vector space.\n",
    "\n",
    "<span id=\"ex:canonic_basis\" label=\"ex:canonic_basis\"></span> Let us\n",
    "investigate the vector space $\\mathbb{R}^2$. As previously defined, this\n",
    "space can be described as the set\n",
    "$$\\mathbb{R}^2=\\{\\mathbf{v};\\ \\mathbf{v}=\\left[v_1\\ v_2\\right]^{\\rm T},\\ v_1,\\ v_2 \\in \\mathbb{R}\\}$$\n",
    "We may verify that any vector $\\mathbf{v}\\in\\mathbb{R}^2$ can be written\n",
    "as a linear combination of vectors $\\mathbf{e}_1$ and $\\mathbf{e}_2$\n",
    "defined below:\n",
    "$$\\mathbf{e}_1=\\left[\\begin{matrix}1\\\\0\\end{matrix}\\right],\\quad\n",
    "\\mathbf{e}_2=\\left[\\begin{matrix}0\\\\1\\end{matrix}\\right].$$ It is also\n",
    "straightforward to verify that\n",
    "$\\mathbf{e}_1,\\ \\mathbf{e}_2\\in\\mathbb{R}^2$. Therefore the set of\n",
    "vectors $\\{\\mathbf{e}_1,\\ \\mathbf{e}_2\\}$ span $\\mathbb{R}^2$. This\n",
    "particular set of vectors forms the canonic basis of $\\mathbb{R}^2$,\n",
    "although it may not be so easy, at least at this moment, to ascertain\n",
    "that no set with less than two elements span the whole space\n",
    "$\\mathbb{R}^2$. Many other sets with two vectors can form a basis of\n",
    "$\\mathbb{R}^2$. We will see further in the chapter how to change from\n",
    "one basis to another.\n",
    "\n",
    "<figure>\n",
    "<embed src=\"attachment:./figs/basis_R2.eps\" id=\"fig:basisR2\" />\n",
    "<figcaption aria-hidden=\"true\"><span\n",
    "class=\"math inline\">ℝ<sup>2</sup></span>.</figcaption>\n",
    "</figure>\n",
    "\n",
    "<span id=\"ex:V_space_line\" label=\"ex:V_space_line\"></span> Another\n",
    "interesting example we may construct is for a vector space\n",
    "$\\mathcal{V}\\subset\\mathbb{R}^2$ defined as\n",
    "$$\\mathcal{V}=\\{\\mathbf{v};\\ \\mathbf{v}=\\alpha \\left[1 \\ 2\\right]^{\\rm T},\\ \\alpha\\in\\mathbb{R}\\}$$\n",
    "In this example, $\\mathcal{V}$ is a line, as seen in\n",
    "Figure <a href=\"#fig:V_space_line\" data-reference-type=\"ref\"\n",
    "data-reference=\"fig:V_space_line\">2</a>. Although we can describe any\n",
    "point along this line using any basis of $\\mathbb{R}^2$ (after all,\n",
    "$\\mathcal{V}\\subset\\mathbb{R}^2$), we can certainly be more economical.\n",
    "In fact, any vector $\\mathbf{v}=\\alpha\\left[1 \\ 2\\right]^{\\rm T}$ is\n",
    "itself a basis of $\\mathcal{V}$.\n",
    "\n",
    "<figure>\n",
    "<embed src=\"attachment:./figs/V_space_line.eps\" id=\"fig:V_space_line\" />\n",
    "<figcaption aria-hidden=\"true\"><span\n",
    "class=\"math inline\">𝒱</span>.</figcaption>\n",
    "</figure>\n",
    "\n",
    "The definition of basis implies that for every vector space there is a\n",
    "set of vectors forming its basis. We have seen above that the number of\n",
    "vectors in the basis is two for $\\mathbb{R}^2$ and one for $\\mathcal{V}$\n",
    "in Example <a href=\"#ex:V_space_line\" data-reference-type=\"ref\"\n",
    "data-reference=\"ex:V_space_line\">[ex:V_space_line]</a>. This number\n",
    "denotes the dimension of these vector spaces.\n",
    "\n",
    "Given a vector space $\\mathcal{U}$, we define the *dimension* of the\n",
    "vector space as the total number of vectors in its basis. A given vector\n",
    "space may have infinite dimension, or it may have dimension equal to\n",
    "zero."
   ]
  },
  {
   "cell_type": "markdown",
   "id": "b96157da",
   "metadata": {},
   "source": [
    "As it was said in this session, it is possible for a vector space to have many different sets working as a basis. In that sense, different basis must be able to describe the same vectors. However, since the vectors in each basis are different, the linear combination to achieve the same vector will naturally be different. In the following exercise, try to obtain the same vector with two different basis."
   ]
  },
  {
   "cell_type": "code",
   "execution_count": 1,
   "id": "b671f3d6",
   "metadata": {},
   "outputs": [
    {
     "name": "stdout",
     "output_type": "stream",
     "text": [
      "Note: you may need to restart the kernel to use updated packages.\n"
     ]
    }
   ],
   "source": [
    "%pip install -q ipywidgets==8.0.7"
   ]
  },
  {
   "cell_type": "code",
   "execution_count": 2,
   "id": "43f6294a",
   "metadata": {},
   "outputs": [
    {
     "data": {
      "application/vnd.jupyter.widget-view+json": {
       "model_id": "244f40dd812148e1985aa728fbac25a6",
       "version_major": 2,
       "version_minor": 0
      },
      "text/plain": [
       "interactive(children=(FloatText(value=1.0, description='Scalar 1:'), FloatText(value=1.0, description='Scalar …"
      ]
     },
     "metadata": {},
     "output_type": "display_data"
    },
    {
     "data": {
      "text/plain": [
       "<function __main__.setas1(escalar01, escalar02, escalar3, escalar4)>"
      ]
     },
     "execution_count": 2,
     "metadata": {},
     "output_type": "execute_result"
    }
   ],
   "source": [
    "import matplotlib.pyplot as plt\n",
    "from ipywidgets import interact\n",
    "import ipywidgets as widgets\n",
    "\n",
    "def setas1(escalar01, escalar02, escalar3, escalar4):\n",
    "    fig, (ax1, ax2) = plt.subplots(1, 2)\n",
    "    plt.figure(figsize=(2, 2))\n",
    "    ax1.arrow(0, 0, escalar01, 0, width = 0.01, color = 'red', length_includes_head = True, head_width = 0.03)\n",
    "    ax1.arrow(0, 0, 0, escalar02, width = 0.01, color = 'black', length_includes_head = True, head_width = 0.03)\n",
    "    ax1.arrow(0, 0, escalar01, escalar02, width = 0.01, length_includes_head = True, head_width = 0.03)\n",
    "    ax1.grid()\n",
    "    ax2.arrow(0, 0, 4*escalar3, 3*escalar3, width = escalar3*(0.03), color = 'red', length_includes_head = True, head_width = escalar3*(0.08))\n",
    "    ax2.arrow(0, 0, 0, 2*escalar4, width = escalar3*(0.03), color = 'black', length_includes_head = True, head_width = escalar3*(0.08))\n",
    "    ax2.arrow(0, 0, 4*escalar3, 3*escalar3 + 2*escalar4, width = escalar3*(0.03), length_includes_head = True, head_width = escalar3*(0.08))\n",
    "    ax2.grid()\n",
    "interact(setas1, escalar01 = widgets.FloatText(value = 1, description = 'Scalar 1:', disabled = False), escalar02 = widgets.FloatText(value = 1, description = 'Scalar 2:', disabled = False),escalar3 = widgets.FloatText(value = 1, description = 'Scalar 3:', disabled = False), escalar4 = widgets.FloatText(value = 1, description = 'Scalar 4:', disabled = False))\n"
   ]
  }
 ],
 "metadata": {
  "kernelspec": {
   "display_name": "Python 3 (ipykernel)",
   "language": "python",
   "name": "python3"
  },
  "language_info": {
   "codemirror_mode": {
    "name": "ipython",
    "version": 3
   },
   "file_extension": ".py",
   "mimetype": "text/x-python",
   "name": "python",
   "nbconvert_exporter": "python",
   "pygments_lexer": "ipython3",
   "version": "3.9.16"
  }
 },
 "nbformat": 4,
 "nbformat_minor": 5
}
