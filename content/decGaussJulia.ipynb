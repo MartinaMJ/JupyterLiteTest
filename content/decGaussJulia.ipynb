{
 "cells": [
  {
   "cell_type": "code",
   "execution_count": 6,
   "metadata": {},
   "outputs": [],
   "source": [
    "using LinearAlgebra, PlutoUI"
   ]
  },
  {
   "cell_type": "code",
   "execution_count": 7,
   "metadata": {},
   "outputs": [
    {
     "data": {
      "text/plain": [
       "permut (generic function with 1 method)"
      ]
     },
     "metadata": {},
     "output_type": "display_data"
    }
   ],
   "source": [
    "function permut(A::Matrix{Float64}, coluna::Int64, quantidadeLinhas::Int64, quantidadeColunas::Int64)\n",
    "    # As linhas a serem percorridas são aquelas cujos ínidices são superiores à coluna em análise.\n",
    "    linhasPercorridas = range(coluna, quantidadeLinhas)\n",
    "    #A lista numeroColunas é a lista usada no laço de repetição que permuta as linhas. \n",
    "    numeroColunas = range(1, quantidadeColunas)\n",
    "    #A variável abaixo é o elemento da diagonal na coluna em análise. O laço de repetição abaixo compara este número com todos os número que estão abaixo dele para ver qual é o maior.\n",
    "    elemDiag = A[coluna, coluna]\n",
    "    for linha in linhasPercorridas\n",
    "        possivelDivisor = A[linha, coluna]\n",
    "        if elemDiag < possivelDivisor\n",
    "            # O laço de repetição abaixo troca os elementos da linha com o mesmo índice da coluna (uma vez que essa contém o elemento da diagonal) pelos elementos da linha em que foi observado o elemento maior que o elemento da diagonal\n",
    "            for counter in numeroColunas\n",
    "                A[coluna, counter], A[linha, counter] = A[linha, counter], A[coluna, counter]\n",
    "            end\n",
    "        end\n",
    "    end\n",
    "return A\n",
    "end"
   ]
  },
  {
   "cell_type": "code",
   "execution_count": 8,
   "metadata": {},
   "outputs": [
    {
     "data": {
      "text/plain": [
       "gauss (generic function with 1 method)"
      ]
     },
     "metadata": {},
     "output_type": "display_data"
    }
   ],
   "source": [
    "function gauss(A::Matrix{Float64})\n",
    "    quantidadeLinhas = size(A,1)\n",
    "    quantidadeColunas = size(A,2)\n",
    "    #A variável linhaInicial define a linha do primeiro número a ser eliminado.\n",
    "    linhaInicial = 2\n",
    "    #A lista abaixo contém indices que representam cada uma das linhas da matriz, a partir da segunda.\n",
    "    linhas = range(linhaInicial, quantidadeLinhas)\n",
    "    #O primeiro laço de repetição define as colunas a serem percorridas. A última coluna que terá um elemento a ser eliminado é a penúltima da matriz.\n",
    "    for coluna in range(1, quantidadeColunas - 1)\n",
    "        # Será passada a matriz, a coluna em análise, a quantidade de colunas e linhas da matriz para a função de permutação. \n",
    "        permut(A, coluna, quantidadeLinhas, quantidadeColunas)\n",
    "        for linha in linhas\n",
    "            #Define-se o divisor do pivô\n",
    "            divisor = A[coluna, coluna]\n",
    "            #Por definição a matriz identidade deve ser quadrada e deve ter a quantidade de colunas igual à quantidade de linhas da matriz que multiplica para que a multiplicação seja possível\n",
    "            I = zeros(quantidadeLinhas, quantidadeLinhas)\n",
    "            # Laço para formar a matriz identidade\n",
    "            for contador in range(1, quantidadeLinhas)\n",
    "                I[contador, contador] = 1\n",
    "            end\n",
    "            # Definindo o pivô e multiplicando\n",
    "            I[linha, coluna] = -A[linha, coluna]/divisor\n",
    "            A = I*A\n",
    "        end\n",
    "    end\n",
    "    return A\n",
    "end"
   ]
  },
  {
   "cell_type": "code",
   "execution_count": 9,
   "metadata": {},
   "outputs": [
    {
     "data": {
      "text/plain": [
       "2×2 Matrix{Int64}:\n",
       " 2  3\n",
       " 4  5"
      ]
     },
     "metadata": {},
     "output_type": "display_data"
    }
   ],
   "source": [
    "B = [2 3\n",
    "4 5]"
   ]
  },
  {
   "cell_type": "code",
   "execution_count": 10,
   "metadata": {},
   "outputs": [
    {
     "data": {
      "text/plain": [
       "PlutoUI.TerminalNotebook.WithTerminalOutput([4.0 5.0; 0.0 0.5], \"\", true)"
      ]
     },
     "metadata": {},
     "output_type": "display_data"
    }
   ],
   "source": [
    "#Convertendo de Int para Float e verificando os elementos\n",
    "try\n",
    "\tA = convert(Matrix{Float64}, B)\n",
    "\twith_terminal() do\n",
    "\tgauss(A)\n",
    "\tend\n",
    "catch\n",
    "\tprintln(\"Algum elemento da matriz inserida contém erros\")\n",
    "end"
   ]
  }
 ],
 "metadata": {
  "kernelspec": {
   "display_name": "Julia 1.8.2",
   "language": "julia",
   "name": "julia-1.8"
  },
  "language_info": {
   "file_extension": ".jl",
   "mimetype": "application/julia",
   "name": "julia",
   "version": "1.8.2"
  },
  "orig_nbformat": 4
 },
 "nbformat": 4,
 "nbformat_minor": 2
}
