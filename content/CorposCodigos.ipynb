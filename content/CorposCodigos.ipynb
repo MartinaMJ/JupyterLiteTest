{
 "cells": [
  {
   "cell_type": "code",
   "execution_count": null,
   "id": "854beeb6",
   "metadata": {},
   "outputs": [],
   "source": [
    "import matplotlib\n",
    "from matplotlib import pyplot as plt\n",
    "import numpy as np\n",
    "import PIL \n",
    "from PIL import Image as im"
   ]
  },
  {
   "cell_type": "code",
   "execution_count": null,
   "id": "ba0fc475",
   "metadata": {},
   "outputs": [],
   "source": [
    "imageArray = np.array([[1, 1, 0, 1, 1], [1, 0, 0, 0, 1], [0, 1, 0, 1, 0], [1, 1, 0, 1, 1], [1, 1, 0, 1, 1]])\n",
    "image = im.fromarray(256*imageArray)\n",
    "plt.axis('off')\n",
    "plt.imshow(image)"
   ]
  },
  {
   "cell_type": "code",
   "execution_count": null,
   "id": "6fa93b07",
   "metadata": {},
   "outputs": [],
   "source": [
    "imageArray = np.array([[1.0,1.0,0.0,1.0,1.0],[1.0,0.0,0.2,0.0,1.0],[0.0,1.0,0.4,1.0,0.0],[1.0,1.0,0.6,1.0,1.0],[1.0,1.0,0.8,1.0,1.0]])\n",
    "image = im.fromarray(256*imageArray)\n",
    "plt.axis('off')\n",
    "plt.imshow(image)"
   ]
  }
 ],
 "metadata": {
  "kernelspec": {
   "display_name": "Python 3 (ipykernel)",
   "language": "python",
   "name": "python3"
  },
  "language_info": {
   "codemirror_mode": {
    "name": "ipython",
    "version": 3
   },
   "file_extension": ".py",
   "mimetype": "text/x-python",
   "name": "python",
   "nbconvert_exporter": "python",
   "pygments_lexer": "ipython3",
   "version": "3.9.16"
  }
 },
 "nbformat": 4,
 "nbformat_minor": 5
}
