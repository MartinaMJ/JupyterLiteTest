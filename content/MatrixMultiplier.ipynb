{
 "cells": [
  {
   "cell_type": "code",
   "execution_count": 28,
   "metadata": {},
   "outputs": [
    {
     "name": "stdout",
     "output_type": "stream",
     "text": [
      "Note: you may need to restart the kernel to use updated packages.\n"
     ]
    }
   ],
   "source": [
    "%pip install -q ipywidgets"
   ]
  },
  {
   "cell_type": "code",
   "execution_count": 29,
   "metadata": {},
   "outputs": [],
   "source": [
    "import ipywidgets as widget\n",
    "import numpy as np\n",
    "from ipywidgets import interact, interact"
   ]
  },
  {
   "cell_type": "code",
   "execution_count": 40,
   "metadata": {},
   "outputs": [
    {
     "data": {
      "application/vnd.jupyter.widget-view+json": {
       "model_id": "082bd7364fc149e58e44a9d898d01d2e",
       "version_major": 2,
       "version_minor": 0
      },
      "text/plain": [
       "IntText(value=1, description='Lines First Matrix:', style=DescriptionStyle(description_width='initial'))"
      ]
     },
     "metadata": {},
     "output_type": "display_data"
    },
    {
     "data": {
      "application/vnd.jupyter.widget-view+json": {
       "model_id": "133e2c597afb426c9b23c3ffb4ee2eda",
       "version_major": 2,
       "version_minor": 0
      },
      "text/plain": [
       "IntText(value=1, description='Columns First Matrix:', style=DescriptionStyle(description_width='initial'))"
      ]
     },
     "metadata": {},
     "output_type": "display_data"
    }
   ],
   "source": [
    "style = {'description_width': 'initial'}\n",
    "lines1 = widget.IntText(value = 1, description = 'Lines First Matrix:', disabled = False, style = style) #This widget takes the aument of rows for the first matrix\n",
    "columns1 = widget.IntText(value = 1, description = 'Columns First Matrix:', disabled = False, style = style) #This widget takes the amount of columns for the first matrix\n",
    "display(lines1)\n",
    "display(columns1)"
   ]
  },
  {
   "cell_type": "code",
   "execution_count": 31,
   "metadata": {},
   "outputs": [
    {
     "data": {
      "application/vnd.jupyter.widget-view+json": {
       "model_id": "67cd2c30941843bca369b5659a731f61",
       "version_major": 2,
       "version_minor": 0
      },
      "text/plain": [
       "VBox(children=(HBox(children=(FloatText(value=0.0, layout=Layout(width='100px')),)),))"
      ]
     },
     "metadata": {},
     "output_type": "display_data"
    }
   ],
   "source": [
    "\n",
    "#These two funtions will be used to generate both matrices.\n",
    "def build_matrix(x,y):\n",
    "    box_array=[]\n",
    "    widgets_array=[] #This array contains all of the elements in the matrix\n",
    "    for i in range(x): #x is the amount of rows\n",
    "        item_array=[] #This array contains all of inputs for a row\n",
    "        for j in range(y): #y is the amount of columns\n",
    "            item = widget.FloatText(value=0,layout=widget.Layout(width='100px'))\n",
    "            widgets_array.append(item)\n",
    "            item_array.append(item)\n",
    "        box_array.append(widget.HBox(item_array)) #A horizontal box is created for each matrix line\n",
    "    return widget.VBox(box_array),(widgets_array, x, y) #The function returns a vertical box that contains all of the horixontal boxes created for the rows,\n",
    "                                                        #as well as a tuple that contains the widgets_array (with all of the elements of the matrix), \n",
    "                                                        #the amount of rows and columns.\n",
    "\n",
    "def widgetArray2np(arrObj):\n",
    "    arr,x,y=arrObj #This function recieves the tuple returned by the build_matrix function, and uses its content to convert the matriz into a numpy array.\n",
    "    return np.array([ item.value for item in arr]).reshape(x,y)\n",
    "\n",
    "#Shows the first matrix\n",
    "layout1,arrObjs1 = build_matrix(lines1.value, columns1.value)\n",
    "display(layout1)"
   ]
  },
  {
   "cell_type": "code",
   "execution_count": 32,
   "metadata": {},
   "outputs": [
    {
     "name": "stdout",
     "output_type": "stream",
     "text": [
      "[[0.]]\n"
     ]
    }
   ],
   "source": [
    "print(widgetArray2np(arrObjs1))"
   ]
  },
  {
   "cell_type": "code",
   "execution_count": 41,
   "metadata": {},
   "outputs": [
    {
     "data": {
      "application/vnd.jupyter.widget-view+json": {
       "model_id": "4413c0ff28db4f37a6eca9e5314fbc20",
       "version_major": 2,
       "version_minor": 0
      },
      "text/plain": [
       "IntText(value=1, description='Lines Second Matrix:', style=DescriptionStyle(description_width='initial'))"
      ]
     },
     "metadata": {},
     "output_type": "display_data"
    },
    {
     "data": {
      "application/vnd.jupyter.widget-view+json": {
       "model_id": "abe2b8f78c764b9b83a0e6e41df3ba31",
       "version_major": 2,
       "version_minor": 0
      },
      "text/plain": [
       "IntText(value=1, description='Columns Second Matrix:', style=DescriptionStyle(description_width='initial'))"
      ]
     },
     "metadata": {},
     "output_type": "display_data"
    }
   ],
   "source": [
    "lines2 = widget.IntText(value = 1, description = 'Lines Second Matrix:', disabled = False, style = style) #This widget takes the aument of rows for the second matrix\n",
    "columns2 = widget.IntText(value = 1, description = 'Columns Second Matrix:', disabled = False, style = style) #This widget takes the aument of columns for the second matrix\n",
    "display(lines2)\n",
    "display(columns2)"
   ]
  },
  {
   "cell_type": "code",
   "execution_count": 34,
   "metadata": {},
   "outputs": [
    {
     "data": {
      "application/vnd.jupyter.widget-view+json": {
       "model_id": "a4a93d066d9549d680a5a383a9eadb19",
       "version_major": 2,
       "version_minor": 0
      },
      "text/plain": [
       "VBox(children=(HBox(children=(FloatText(value=0.0, layout=Layout(width='100px')),)),))"
      ]
     },
     "metadata": {},
     "output_type": "display_data"
    }
   ],
   "source": [
    "#Creates the second matrix\n",
    "layout2,arrObjs2 = build_matrix(lines2.value, columns2.value)\n",
    "display(layout2)"
   ]
  },
  {
   "cell_type": "code",
   "execution_count": 35,
   "metadata": {},
   "outputs": [
    {
     "name": "stdout",
     "output_type": "stream",
     "text": [
      "[[0.]]\n"
     ]
    }
   ],
   "source": [
    "print(widgetArray2np(arrObjs2))"
   ]
  },
  {
   "cell_type": "code",
   "execution_count": 36,
   "metadata": {},
   "outputs": [
    {
     "name": "stdout",
     "output_type": "stream",
     "text": [
      "[[0.]]\n"
     ]
    }
   ],
   "source": [
    "#Multiplies both matrices\n",
    "m1 = widgetArray2np(arrObjs1)\n",
    "m2 = widgetArray2np(arrObjs2)\n",
    "\n",
    "print(np.matmul(m1,m2))"
   ]
  }
 ],
 "metadata": {
  "kernelspec": {
   "display_name": "base",
   "language": "python",
   "name": "python3"
  },
  "language_info": {
   "codemirror_mode": {
    "name": "ipython",
    "version": 3
   },
   "file_extension": ".py",
   "mimetype": "text/x-python",
   "name": "python",
   "nbconvert_exporter": "python",
   "pygments_lexer": "ipython3",
   "version": "3.9.16"
  },
  "orig_nbformat": 4
 },
 "nbformat": 4,
 "nbformat_minor": 2
}
