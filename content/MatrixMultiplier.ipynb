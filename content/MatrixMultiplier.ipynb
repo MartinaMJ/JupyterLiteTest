{
 "cells": [
  {
   "cell_type": "code",
   "execution_count": 13,
   "metadata": {},
   "outputs": [
    {
     "name": "stdout",
     "output_type": "stream",
     "text": [
      "Note: you may need to restart the kernel to use updated packages.\n"
     ]
    }
   ],
   "source": [
    "%pip install -q ipywidgets==8.0.7"
   ]
  },
  {
   "cell_type": "code",
   "execution_count": 14,
   "metadata": {},
   "outputs": [],
   "source": [
    "import ipywidgets as widget\n",
    "import numpy as np\n",
    "from ipywidgets import interact, interact"
   ]
  },
  {
   "cell_type": "code",
   "execution_count": 15,
   "metadata": {},
   "outputs": [
    {
     "data": {
      "application/vnd.jupyter.widget-view+json": {
       "model_id": "ad39ff8aa1d8423c88fddf8e7fd0777b",
       "version_major": 2,
       "version_minor": 0
      },
      "text/plain": [
       "IntText(value=1, description='Rows First Matrix:', style=DescriptionStyle(description_width='initial'))"
      ]
     },
     "metadata": {},
     "output_type": "display_data"
    },
    {
     "data": {
      "application/vnd.jupyter.widget-view+json": {
       "model_id": "9c76b857ab8e4326810d2d964d938ddb",
       "version_major": 2,
       "version_minor": 0
      },
      "text/plain": [
       "IntText(value=1, description='Columns First Matrix:', style=DescriptionStyle(description_width='initial'))"
      ]
     },
     "metadata": {},
     "output_type": "display_data"
    }
   ],
   "source": [
    "style = {'description_width': 'initial'}\n",
    "rows1 = widget.IntText(value = 1, description = 'Rows First Matrix:', disabled = False, style = style) #This widget takes the aument of rows for the first matrix\n",
    "columns1 = widget.IntText(value = 1, description = 'Columns First Matrix:', disabled = False, style = style) #This widget takes the amount of columns for the first matrix\n",
    "display(rows1)\n",
    "display(columns1)"
   ]
  },
  {
   "cell_type": "code",
   "execution_count": 16,
   "metadata": {},
   "outputs": [
    {
     "data": {
      "application/vnd.jupyter.widget-view+json": {
       "model_id": "f4bb78d6994c438e8561d66c75014eab",
       "version_major": 2,
       "version_minor": 0
      },
      "text/plain": [
       "VBox(children=(HBox(children=(FloatText(value=0.0, layout=Layout(width='100px')),)),))"
      ]
     },
     "metadata": {},
     "output_type": "display_data"
    }
   ],
   "source": [
    "\n",
    "#These two funtions will be used to generate both matrices.\n",
    "def build_matrix(x,y):\n",
    "    box_array=[]\n",
    "    widgets_array=[] #This array contains all of the elements in the matrix\n",
    "    for i in range(x): #x is the amount of rows\n",
    "        item_array=[] #This array contains all of inputs for a row\n",
    "        for j in range(y): #y is the amount of columns\n",
    "            item = widget.FloatText(value=0,layout=widget.Layout(width='100px'))\n",
    "            widgets_array.append(item)\n",
    "            item_array.append(item)\n",
    "        box_array.append(widget.HBox(item_array)) #A horizontal box is created for each matrix line\n",
    "    return widget.VBox(box_array),(widgets_array, x, y) #The function returns a vertical box that contains all of the horixontal boxes created for the rows,\n",
    "                                                        #as well as a tuple that contains the widgets_array (with all of the elements of the matrix), \n",
    "                                                        #the amount of rows and columns.\n",
    "\n",
    "def widgetArray2np(arrObj):\n",
    "    arr,x,y=arrObj #This function recieves the tuple returned by the build_matrix function, and uses its content to convert the matriz into a numpy array.\n",
    "    return np.array([ item.value for item in arr]).reshape(x,y)\n",
    "\n",
    "#Shows the first matrix\n",
    "layout1,arrObjs1 = build_matrix(rows1.value, columns1.value)\n",
    "display(layout1)"
   ]
  },
  {
   "cell_type": "code",
   "execution_count": 17,
   "metadata": {},
   "outputs": [
    {
     "name": "stdout",
     "output_type": "stream",
     "text": [
      "[[0.]]\n"
     ]
    }
   ],
   "source": [
    "print(widgetArray2np(arrObjs1))"
   ]
  },
  {
   "cell_type": "code",
   "execution_count": 18,
   "metadata": {},
   "outputs": [
    {
     "data": {
      "application/vnd.jupyter.widget-view+json": {
       "model_id": "e75bdefc5f404164a66918435da67a0c",
       "version_major": 2,
       "version_minor": 0
      },
      "text/plain": [
       "IntText(value=1, description='Rows Second Matrix:', style=DescriptionStyle(description_width='initial'))"
      ]
     },
     "metadata": {},
     "output_type": "display_data"
    },
    {
     "data": {
      "application/vnd.jupyter.widget-view+json": {
       "model_id": "32fd81f4c88c48e58785218bc375921f",
       "version_major": 2,
       "version_minor": 0
      },
      "text/plain": [
       "IntText(value=1, description='Columns Second Matrix:', style=DescriptionStyle(description_width='initial'))"
      ]
     },
     "metadata": {},
     "output_type": "display_data"
    }
   ],
   "source": [
    "rows2 = widget.IntText(value = 1, description = 'Rows Second Matrix:', disabled = False, style = style) #This widget takes the aument of rows for the second matrix\n",
    "columns2 = widget.IntText(value = 1, description = 'Columns Second Matrix:', disabled = False, style = style) #This widget takes the aument of columns for the second matrix\n",
    "display(rows2)\n",
    "display(columns2)"
   ]
  },
  {
   "cell_type": "code",
   "execution_count": 19,
   "metadata": {},
   "outputs": [
    {
     "data": {
      "application/vnd.jupyter.widget-view+json": {
       "model_id": "ba14b6423fb34e3aafb7ac9e955ba820",
       "version_major": 2,
       "version_minor": 0
      },
      "text/plain": [
       "VBox(children=(HBox(children=(FloatText(value=0.0, layout=Layout(width='100px')),)),))"
      ]
     },
     "metadata": {},
     "output_type": "display_data"
    }
   ],
   "source": [
    "#Creates the second matrix\n",
    "layout2,arrObjs2 = build_matrix(rows2.value, columns2.value)\n",
    "display(layout2)"
   ]
  },
  {
   "cell_type": "code",
   "execution_count": 20,
   "metadata": {},
   "outputs": [
    {
     "name": "stdout",
     "output_type": "stream",
     "text": [
      "[[0.]]\n"
     ]
    }
   ],
   "source": [
    "print(widgetArray2np(arrObjs2))"
   ]
  },
  {
   "cell_type": "code",
   "execution_count": 21,
   "metadata": {},
   "outputs": [
    {
     "name": "stdout",
     "output_type": "stream",
     "text": [
      "[[0.]]\n"
     ]
    }
   ],
   "source": [
    "#Multiplies both matrices\n",
    "m1 = widgetArray2np(arrObjs1)\n",
    "m2 = widgetArray2np(arrObjs2)\n",
    "\n",
    "print(np.matmul(m1,m2))"
   ]
  }
 ],
 "metadata": {
  "kernelspec": {
   "display_name": "base",
   "language": "python",
   "name": "python3"
  },
  "language_info": {
   "codemirror_mode": {
    "name": "ipython",
    "version": 3
   },
   "file_extension": ".py",
   "mimetype": "text/x-python",
   "name": "python",
   "nbconvert_exporter": "python",
   "pygments_lexer": "ipython3",
   "version": "3.9.16"
  },
  "orig_nbformat": 4
 },
 "nbformat": 4,
 "nbformat_minor": 2
}
