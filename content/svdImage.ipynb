{
 "cells": [
  {
   "cell_type": "code",
   "execution_count": 1,
   "id": "ee222967",
   "metadata": {},
   "outputs": [],
   "source": [
    "from skimage import data\n",
    "from skimage.color import rgb2gray"
   ]
  },
  {
   "cell_type": "code",
   "execution_count": 2,
   "id": "ce6e025f",
   "metadata": {},
   "outputs": [],
   "source": [
    "from skimage import img_as_ubyte, img_as_float\n",
    "gray = {\"cat\":rgb2gray(img_as_float(data.chelsea()))}"
   ]
  },
  {
   "cell_type": "code",
   "execution_count": 3,
   "id": "b4331dac",
   "metadata": {},
   "outputs": [],
   "source": [
    "import numpy as np\n",
    "from numpy.linalg import svd"
   ]
  },
  {
   "cell_type": "code",
   "execution_count": 4,
   "id": "821ac3bb",
   "metadata": {},
   "outputs": [],
   "source": [
    "def decsvd(image, k):\n",
    "    U, S, V = svd(image, full_matrices=False)\n",
    "    product = np.dot(U[:,:k], np.dot(np.diag(S[:k]), V[:k,:]))\n",
    "    return product, S"
   ]
  },
  {
   "cell_type": "code",
   "execution_count": 5,
   "id": "6b8a0485",
   "metadata": {},
   "outputs": [],
   "source": [
    "import matplotlib.pyplot as plt"
   ]
  },
  {
   "cell_type": "code",
   "execution_count": 6,
   "id": "4cda804e",
   "metadata": {},
   "outputs": [],
   "source": [
    "def show_img(img_name, k):\n",
    "    image = gray[img_name]\n",
    "    original_shape = image.shape\n",
    "    reconst_img, s = decsvd(image,k)\n",
    "    fig, axes = plt.subplots(1,2,figsize=(8,5))\n",
    "    axes[0].plot(s)\n",
    "    compression_ratio = 100.0*(k*(original_shape[0] + original_shape[1])+k)/(original_shape[0]*original_shape[1])\n",
    "    axes[1].set_title(\"compression ratio={:.2f}\".format(compression_ratio)+\"%\")\n",
    "    axes[1].imshow(reconst_img, cmap='gray')\n",
    "    axes[1].axis('off')\n",
    "    fig.tight_layout()"
   ]
  },
  {
   "cell_type": "code",
   "execution_count": 7,
   "id": "49ffd7af",
   "metadata": {},
   "outputs": [],
   "source": [
    "import ipywidgets as widgets\n",
    "from ipywidgets import interact"
   ]
  },
  {
   "cell_type": "code",
   "execution_count": 8,
   "id": "c014aaf5",
   "metadata": {},
   "outputs": [
    {
     "data": {
      "application/vnd.jupyter.widget-view+json": {
       "model_id": "0f591b337da7439fb8326b61043f16ea",
       "version_major": 2,
       "version_minor": 0
      },
      "text/plain": [
       "interactive(children=(Dropdown(description='img_name', options=('cat',), value='cat'), IntSlider(value=150, de…"
      ]
     },
     "metadata": {},
     "output_type": "display_data"
    },
    {
     "data": {
      "text/plain": [
       "<function __main__.show_img(img_name, k)>"
      ]
     },
     "execution_count": 8,
     "metadata": {},
     "output_type": "execute_result"
    }
   ],
   "source": [
    "interact(show_img, img_name=list(gray.keys()), k=(1,300))"
   ]
  }
 ],
 "metadata": {
  "kernelspec": {
   "display_name": "Python 3 (ipykernel)",
   "language": "python",
   "name": "python3"
  },
  "language_info": {
   "codemirror_mode": {
    "name": "ipython",
    "version": 3
   },
   "file_extension": ".py",
   "mimetype": "text/x-python",
   "name": "python",
   "nbconvert_exporter": "python",
   "pygments_lexer": "ipython3",
   "version": "3.9.16"
  }
 },
 "nbformat": 4,
 "nbformat_minor": 5
}
