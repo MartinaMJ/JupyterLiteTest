{
 "cells": [
  {
   "cell_type": "code",
   "execution_count": 218,
   "metadata": {},
   "outputs": [
    {
     "name": "stdout",
     "output_type": "stream",
     "text": [
      "Requirement already satisfied: xyzservices in c:\\users\\marti\\anaconda3\\lib\\site-packages (2023.5.0)\n",
      "Note: you may need to restart the kernel to use updated packages.\n"
     ]
    }
   ],
   "source": [
    "%pip install xyzservices"
   ]
  },
  {
   "cell_type": "code",
   "execution_count": 219,
   "metadata": {},
   "outputs": [],
   "source": [
    "import bokeh\n",
    "import pandas\n",
    "from bokeh.io import output_notebook\n",
    "from bokeh.models import CustomJS, Spinner, ColumnDataSource, Arrow\n",
    "from bokeh.plotting import figure, show\n",
    "from bokeh.layouts import column"
   ]
  },
  {
   "cell_type": "code",
   "execution_count": 220,
   "metadata": {},
   "outputs": [
    {
     "data": {
      "text/html": [
       "<div class=\"bk-root\">\n",
       "        <a href=\"https://bokeh.org\" target=\"_blank\" class=\"bk-logo bk-logo-small bk-logo-notebook\"></a>\n",
       "        <span id=\"18765\">Loading BokehJS ...</span>\n",
       "    </div>\n"
      ]
     },
     "metadata": {},
     "output_type": "display_data"
    },
    {
     "data": {
      "application/javascript": "(function(root) {\n  function now() {\n    return new Date();\n  }\n\n  const force = true;\n\n  if (typeof root._bokeh_onload_callbacks === \"undefined\" || force === true) {\n    root._bokeh_onload_callbacks = [];\n    root._bokeh_is_loading = undefined;\n  }\n\nconst JS_MIME_TYPE = 'application/javascript';\n  const HTML_MIME_TYPE = 'text/html';\n  const EXEC_MIME_TYPE = 'application/vnd.bokehjs_exec.v0+json';\n  const CLASS_NAME = 'output_bokeh rendered_html';\n\n  /**\n   * Render data to the DOM node\n   */\n  function render(props, node) {\n    const script = document.createElement(\"script\");\n    node.appendChild(script);\n  }\n\n  /**\n   * Handle when an output is cleared or removed\n   */\n  function handleClearOutput(event, handle) {\n    const cell = handle.cell;\n\n    const id = cell.output_area._bokeh_element_id;\n    const server_id = cell.output_area._bokeh_server_id;\n    // Clean up Bokeh references\n    if (id != null && id in Bokeh.index) {\n      Bokeh.index[id].model.document.clear();\n      delete Bokeh.index[id];\n    }\n\n    if (server_id !== undefined) {\n      // Clean up Bokeh references\n      const cmd_clean = \"from bokeh.io.state import curstate; print(curstate().uuid_to_server['\" + server_id + \"'].get_sessions()[0].document.roots[0]._id)\";\n      cell.notebook.kernel.execute(cmd_clean, {\n        iopub: {\n          output: function(msg) {\n            const id = msg.content.text.trim();\n            if (id in Bokeh.index) {\n              Bokeh.index[id].model.document.clear();\n              delete Bokeh.index[id];\n            }\n          }\n        }\n      });\n      // Destroy server and session\n      const cmd_destroy = \"import bokeh.io.notebook as ion; ion.destroy_server('\" + server_id + \"')\";\n      cell.notebook.kernel.execute(cmd_destroy);\n    }\n  }\n\n  /**\n   * Handle when a new output is added\n   */\n  function handleAddOutput(event, handle) {\n    const output_area = handle.output_area;\n    const output = handle.output;\n\n    // limit handleAddOutput to display_data with EXEC_MIME_TYPE content only\n    if ((output.output_type != \"display_data\") || (!Object.prototype.hasOwnProperty.call(output.data, EXEC_MIME_TYPE))) {\n      return\n    }\n\n    const toinsert = output_area.element.find(\".\" + CLASS_NAME.split(' ')[0]);\n\n    if (output.metadata[EXEC_MIME_TYPE][\"id\"] !== undefined) {\n      toinsert[toinsert.length - 1].firstChild.textContent = output.data[JS_MIME_TYPE];\n      // store reference to embed id on output_area\n      output_area._bokeh_element_id = output.metadata[EXEC_MIME_TYPE][\"id\"];\n    }\n    if (output.metadata[EXEC_MIME_TYPE][\"server_id\"] !== undefined) {\n      const bk_div = document.createElement(\"div\");\n      bk_div.innerHTML = output.data[HTML_MIME_TYPE];\n      const script_attrs = bk_div.children[0].attributes;\n      for (let i = 0; i < script_attrs.length; i++) {\n        toinsert[toinsert.length - 1].firstChild.setAttribute(script_attrs[i].name, script_attrs[i].value);\n        toinsert[toinsert.length - 1].firstChild.textContent = bk_div.children[0].textContent\n      }\n      // store reference to server id on output_area\n      output_area._bokeh_server_id = output.metadata[EXEC_MIME_TYPE][\"server_id\"];\n    }\n  }\n\n  function register_renderer(events, OutputArea) {\n\n    function append_mime(data, metadata, element) {\n      // create a DOM node to render to\n      const toinsert = this.create_output_subarea(\n        metadata,\n        CLASS_NAME,\n        EXEC_MIME_TYPE\n      );\n      this.keyboard_manager.register_events(toinsert);\n      // Render to node\n      const props = {data: data, metadata: metadata[EXEC_MIME_TYPE]};\n      render(props, toinsert[toinsert.length - 1]);\n      element.append(toinsert);\n      return toinsert\n    }\n\n    /* Handle when an output is cleared or removed */\n    events.on('clear_output.CodeCell', handleClearOutput);\n    events.on('delete.Cell', handleClearOutput);\n\n    /* Handle when a new output is added */\n    events.on('output_added.OutputArea', handleAddOutput);\n\n    /**\n     * Register the mime type and append_mime function with output_area\n     */\n    OutputArea.prototype.register_mime_type(EXEC_MIME_TYPE, append_mime, {\n      /* Is output safe? */\n      safe: true,\n      /* Index of renderer in `output_area.display_order` */\n      index: 0\n    });\n  }\n\n  // register the mime type if in Jupyter Notebook environment and previously unregistered\n  if (root.Jupyter !== undefined) {\n    const events = require('base/js/events');\n    const OutputArea = require('notebook/js/outputarea').OutputArea;\n\n    if (OutputArea.prototype.mime_types().indexOf(EXEC_MIME_TYPE) == -1) {\n      register_renderer(events, OutputArea);\n    }\n  }\n  if (typeof (root._bokeh_timeout) === \"undefined\" || force === true) {\n    root._bokeh_timeout = Date.now() + 5000;\n    root._bokeh_failed_load = false;\n  }\n\n  const NB_LOAD_WARNING = {'data': {'text/html':\n     \"<div style='background-color: #fdd'>\\n\"+\n     \"<p>\\n\"+\n     \"BokehJS does not appear to have successfully loaded. If loading BokehJS from CDN, this \\n\"+\n     \"may be due to a slow or bad network connection. Possible fixes:\\n\"+\n     \"</p>\\n\"+\n     \"<ul>\\n\"+\n     \"<li>re-rerun `output_notebook()` to attempt to load from CDN again, or</li>\\n\"+\n     \"<li>use INLINE resources instead, as so:</li>\\n\"+\n     \"</ul>\\n\"+\n     \"<code>\\n\"+\n     \"from bokeh.resources import INLINE\\n\"+\n     \"output_notebook(resources=INLINE)\\n\"+\n     \"</code>\\n\"+\n     \"</div>\"}};\n\n  function display_loaded() {\n    const el = document.getElementById(\"18765\");\n    if (el != null) {\n      el.textContent = \"BokehJS is loading...\";\n    }\n    if (root.Bokeh !== undefined) {\n      if (el != null) {\n        el.textContent = \"BokehJS \" + root.Bokeh.version + \" successfully loaded.\";\n      }\n    } else if (Date.now() < root._bokeh_timeout) {\n      setTimeout(display_loaded, 100)\n    }\n  }\n\n  function run_callbacks() {\n    try {\n      root._bokeh_onload_callbacks.forEach(function(callback) {\n        if (callback != null)\n          callback();\n      });\n    } finally {\n      delete root._bokeh_onload_callbacks\n    }\n    console.debug(\"Bokeh: all callbacks have finished\");\n  }\n\n  function load_libs(css_urls, js_urls, callback) {\n    if (css_urls == null) css_urls = [];\n    if (js_urls == null) js_urls = [];\n\n    root._bokeh_onload_callbacks.push(callback);\n    if (root._bokeh_is_loading > 0) {\n      console.debug(\"Bokeh: BokehJS is being loaded, scheduling callback at\", now());\n      return null;\n    }\n    if (js_urls == null || js_urls.length === 0) {\n      run_callbacks();\n      return null;\n    }\n    console.debug(\"Bokeh: BokehJS not loaded, scheduling load and callback at\", now());\n    root._bokeh_is_loading = css_urls.length + js_urls.length;\n\n    function on_load() {\n      root._bokeh_is_loading--;\n      if (root._bokeh_is_loading === 0) {\n        console.debug(\"Bokeh: all BokehJS libraries/stylesheets loaded\");\n        run_callbacks()\n      }\n    }\n\n    function on_error(url) {\n      console.error(\"failed to load \" + url);\n    }\n\n    for (let i = 0; i < css_urls.length; i++) {\n      const url = css_urls[i];\n      const element = document.createElement(\"link\");\n      element.onload = on_load;\n      element.onerror = on_error.bind(null, url);\n      element.rel = \"stylesheet\";\n      element.type = \"text/css\";\n      element.href = url;\n      console.debug(\"Bokeh: injecting link tag for BokehJS stylesheet: \", url);\n      document.body.appendChild(element);\n    }\n\n    for (let i = 0; i < js_urls.length; i++) {\n      const url = js_urls[i];\n      const element = document.createElement('script');\n      element.onload = on_load;\n      element.onerror = on_error.bind(null, url);\n      element.async = false;\n      element.src = url;\n      console.debug(\"Bokeh: injecting script tag for BokehJS library: \", url);\n      document.head.appendChild(element);\n    }\n  };\n\n  function inject_raw_css(css) {\n    const element = document.createElement(\"style\");\n    element.appendChild(document.createTextNode(css));\n    document.body.appendChild(element);\n  }\n\n  const js_urls = [\"https://cdn.bokeh.org/bokeh/release/bokeh-2.4.3.min.js\", \"https://cdn.bokeh.org/bokeh/release/bokeh-gl-2.4.3.min.js\", \"https://cdn.bokeh.org/bokeh/release/bokeh-widgets-2.4.3.min.js\", \"https://cdn.bokeh.org/bokeh/release/bokeh-tables-2.4.3.min.js\", \"https://cdn.bokeh.org/bokeh/release/bokeh-mathjax-2.4.3.min.js\"];\n  const css_urls = [];\n\n  const inline_js = [    function(Bokeh) {\n      Bokeh.set_log_level(\"info\");\n    },\nfunction(Bokeh) {\n    }\n  ];\n\n  function run_inline_js() {\n    if (root.Bokeh !== undefined || force === true) {\n          for (let i = 0; i < inline_js.length; i++) {\n      inline_js[i].call(root, root.Bokeh);\n    }\nif (force === true) {\n        display_loaded();\n      }} else if (Date.now() < root._bokeh_timeout) {\n      setTimeout(run_inline_js, 100);\n    } else if (!root._bokeh_failed_load) {\n      console.log(\"Bokeh: BokehJS failed to load within specified timeout.\");\n      root._bokeh_failed_load = true;\n    } else if (force !== true) {\n      const cell = $(document.getElementById(\"18765\")).parents('.cell').data().cell;\n      cell.output_area.append_execute_result(NB_LOAD_WARNING)\n    }\n  }\n\n  if (root._bokeh_is_loading === 0) {\n    console.debug(\"Bokeh: BokehJS loaded, going straight to plotting\");\n    run_inline_js();\n  } else {\n    load_libs(css_urls, js_urls, function() {\n      console.debug(\"Bokeh: BokehJS plotting callback run at\", now());\n      run_inline_js();\n    });\n  }\n}(window));",
      "application/vnd.bokehjs_load.v0+json": ""
     },
     "metadata": {},
     "output_type": "display_data"
    }
   ],
   "source": [
    "output_notebook()"
   ]
  },
  {
   "cell_type": "code",
   "execution_count": 221,
   "metadata": {},
   "outputs": [
    {
     "data": {
      "text/html": [
       "\n",
       "  <div class=\"bk-root\" id=\"59d2e765-65aa-46ed-9a77-fd90b4106a1a\" data-root-id=\"18812\"></div>\n"
      ]
     },
     "metadata": {},
     "output_type": "display_data"
    },
    {
     "data": {
      "application/javascript": "(function(root) {\n  function embed_document(root) {\n  const docs_json = {\"4708331d-af90-4e1e-be76-a541f70a3b8f\":{\"defs\":[],\"roots\":{\"references\":[{\"attributes\":{\"children\":[{\"id\":\"18804\"},{\"id\":\"18805\"},{\"id\":\"18767\"}]},\"id\":\"18812\",\"type\":\"Column\"},{\"attributes\":{\"js_property_callbacks\":{\"change:value\":[{\"id\":\"18806\"},{\"id\":\"18811\"}]},\"title\":\"Escalar 1\",\"value\":1,\"value_throttled\":1,\"width\":80},\"id\":\"18804\",\"type\":\"Spinner\"},{\"attributes\":{\"data\":{\"x\":[1,0,1],\"y\":[0,1,1]},\"selected\":{\"id\":\"19603\"},\"selection_policy\":{\"id\":\"19602\"}},\"id\":\"18766\",\"type\":\"ColumnDataSource\"},{\"attributes\":{},\"id\":\"19595\",\"type\":\"AllLabels\"},{\"attributes\":{\"args\":{\"source\":{\"id\":\"18766\"},\"spinner1\":{\"id\":\"18804\"},\"spinner2\":{\"id\":\"18805\"}},\"code\":\"\\n    source.data['x'] = [spinner1.value, 0, spinner1.value]\\n    source.data['y'] = [0, spinner2.value, spinner2.value]\\n    source.change.emit()\\n\"},\"id\":\"18806\",\"type\":\"CustomJS\"},{\"attributes\":{},\"id\":\"18781\",\"type\":\"BasicTicker\"},{\"attributes\":{\"data\":{},\"selected\":{\"id\":\"19610\"},\"selection_policy\":{\"id\":\"19609\"}},\"id\":\"19599\",\"type\":\"ColumnDataSource\"},{\"attributes\":{},\"id\":\"19603\",\"type\":\"Selection\"},{\"attributes\":{},\"id\":\"18777\",\"type\":\"BasicTicker\"},{\"attributes\":{\"tools\":[{\"id\":\"18784\"},{\"id\":\"18785\"},{\"id\":\"18786\"},{\"id\":\"18787\"},{\"id\":\"18788\"},{\"id\":\"18789\"}]},\"id\":\"18791\",\"type\":\"Toolbar\"},{\"attributes\":{},\"id\":\"19600\",\"type\":\"OpenHead\"},{\"attributes\":{\"axis\":{\"id\":\"18780\"},\"coordinates\":null,\"dimension\":1,\"group\":null,\"ticker\":null},\"id\":\"18783\",\"type\":\"Grid\"},{\"attributes\":{},\"id\":\"18788\",\"type\":\"ResetTool\"},{\"attributes\":{},\"id\":\"19592\",\"type\":\"AllLabels\"},{\"attributes\":{\"axis\":{\"id\":\"18776\"},\"coordinates\":null,\"group\":null,\"ticker\":null},\"id\":\"18779\",\"type\":\"Grid\"},{\"attributes\":{},\"id\":\"19610\",\"type\":\"Selection\"},{\"attributes\":{},\"id\":\"18789\",\"type\":\"HelpTool\"},{\"attributes\":{},\"id\":\"19607\",\"type\":\"UnionRenderers\"},{\"attributes\":{},\"id\":\"18774\",\"type\":\"LinearScale\"},{\"attributes\":{\"coordinates\":null,\"formatter\":{\"id\":\"19591\"},\"group\":null,\"major_label_policy\":{\"id\":\"19592\"},\"ticker\":{\"id\":\"18781\"}},\"id\":\"18780\",\"type\":\"LinearAxis\"},{\"attributes\":{},\"id\":\"18770\",\"type\":\"DataRange1d\"},{\"attributes\":{},\"id\":\"19591\",\"type\":\"BasicTickFormatter\"},{\"attributes\":{\"coordinates\":null,\"formatter\":{\"id\":\"19594\"},\"group\":null,\"major_label_policy\":{\"id\":\"19595\"},\"ticker\":{\"id\":\"18777\"}},\"id\":\"18776\",\"type\":\"LinearAxis\"},{\"attributes\":{},\"id\":\"19602\",\"type\":\"UnionRenderers\"},{\"attributes\":{\"fill_alpha\":{\"value\":0.1},\"fill_color\":{\"value\":\"#1f77b4\"},\"hatch_alpha\":{\"value\":0.1},\"line_alpha\":{\"value\":0.1},\"line_color\":{\"value\":\"#1f77b4\"},\"line_width\":{\"value\":3},\"x\":{\"field\":\"x\"},\"y\":{\"field\":\"y\"}},\"id\":\"18800\",\"type\":\"Circle\"},{\"attributes\":{\"overlay\":{\"id\":\"18790\"}},\"id\":\"18786\",\"type\":\"BoxZoomTool\"},{\"attributes\":{},\"id\":\"18768\",\"type\":\"DataRange1d\"},{\"attributes\":{},\"id\":\"19605\",\"type\":\"Selection\"},{\"attributes\":{\"below\":[{\"id\":\"18776\"}],\"center\":[{\"id\":\"18779\"},{\"id\":\"18783\"},{\"id\":\"18808\"},{\"id\":\"18809\"},{\"id\":\"18810\"}],\"height\":400,\"left\":[{\"id\":\"18780\"}],\"renderers\":[{\"id\":\"18802\"}],\"title\":{\"id\":\"19588\"},\"toolbar\":{\"id\":\"18791\"},\"width\":400,\"x_range\":{\"id\":\"18768\"},\"x_scale\":{\"id\":\"18772\"},\"y_range\":{\"id\":\"18770\"},\"y_scale\":{\"id\":\"18774\"}},\"id\":\"18767\",\"subtype\":\"Figure\",\"type\":\"Plot\"},{\"attributes\":{},\"id\":\"18784\",\"type\":\"PanTool\"},{\"attributes\":{},\"id\":\"18787\",\"type\":\"SaveTool\"},{\"attributes\":{\"fill_color\":{\"value\":\"#1f77b4\"},\"line_alpha\":{\"value\":0.6},\"line_color\":{\"value\":\"#1f77b4\"},\"line_width\":{\"value\":3},\"x\":{\"field\":\"x\"},\"y\":{\"field\":\"y\"}},\"id\":\"18799\",\"type\":\"Circle\"},{\"attributes\":{},\"id\":\"19609\",\"type\":\"UnionRenderers\"},{\"attributes\":{\"fill_alpha\":{\"value\":0.2},\"fill_color\":{\"value\":\"#1f77b4\"},\"hatch_alpha\":{\"value\":0.2},\"line_alpha\":{\"value\":0.2},\"line_color\":{\"value\":\"#1f77b4\"},\"line_width\":{\"value\":3},\"x\":{\"field\":\"x\"},\"y\":{\"field\":\"y\"}},\"id\":\"18801\",\"type\":\"Circle\"},{\"attributes\":{\"data\":{},\"selected\":{\"id\":\"19612\"},\"selection_policy\":{\"id\":\"19611\"}},\"id\":\"19601\",\"type\":\"ColumnDataSource\"},{\"attributes\":{},\"id\":\"19596\",\"type\":\"OpenHead\"},{\"attributes\":{},\"id\":\"18785\",\"type\":\"WheelZoomTool\"},{\"attributes\":{},\"id\":\"19598\",\"type\":\"OpenHead\"},{\"attributes\":{\"coordinates\":null,\"data_source\":{\"id\":\"18766\"},\"glyph\":{\"id\":\"18799\"},\"group\":null,\"hover_glyph\":null,\"muted_glyph\":{\"id\":\"18801\"},\"nonselection_glyph\":{\"id\":\"18800\"},\"view\":{\"id\":\"18803\"}},\"id\":\"18802\",\"type\":\"GlyphRenderer\"},{\"attributes\":{},\"id\":\"18772\",\"type\":\"LinearScale\"},{\"attributes\":{\"data\":{},\"selected\":{\"id\":\"19608\"},\"selection_policy\":{\"id\":\"19607\"}},\"id\":\"19597\",\"type\":\"ColumnDataSource\"},{\"attributes\":{\"coordinates\":null,\"group\":null},\"id\":\"19588\",\"type\":\"Title\"},{\"attributes\":{},\"id\":\"19608\",\"type\":\"Selection\"},{\"attributes\":{},\"id\":\"19604\",\"type\":\"UnionRenderers\"},{\"attributes\":{\"js_property_callbacks\":{\"change:value\":[{\"id\":\"18806\"},{\"id\":\"18811\"}]},\"title\":\"Escalar 2\",\"value\":1,\"value_throttled\":1,\"width\":80},\"id\":\"18805\",\"type\":\"Spinner\"},{\"attributes\":{\"data\":{\"x_end\":[1],\"y_end\":[1]},\"selected\":{\"id\":\"19605\"},\"selection_policy\":{\"id\":\"19604\"}},\"id\":\"18807\",\"type\":\"ColumnDataSource\"},{\"attributes\":{},\"id\":\"19612\",\"type\":\"Selection\"},{\"attributes\":{\"bottom_units\":\"screen\",\"coordinates\":null,\"fill_alpha\":0.5,\"fill_color\":\"lightgrey\",\"group\":null,\"left_units\":\"screen\",\"level\":\"overlay\",\"line_alpha\":1.0,\"line_color\":\"black\",\"line_dash\":[4,4],\"line_width\":2,\"right_units\":\"screen\",\"syncable\":false,\"top_units\":\"screen\"},\"id\":\"18790\",\"type\":\"BoxAnnotation\"},{\"attributes\":{\"coordinates\":null,\"end\":{\"id\":\"19600\"},\"group\":null,\"source\":{\"id\":\"19601\"},\"start\":null,\"x_end\":{\"value\":1},\"x_start\":{\"value\":0},\"y_end\":{\"value\":1},\"y_start\":{\"value\":0}},\"id\":\"18810\",\"type\":\"Arrow\"},{\"attributes\":{},\"id\":\"19611\",\"type\":\"UnionRenderers\"},{\"attributes\":{\"coordinates\":null,\"end\":{\"id\":\"19598\"},\"group\":null,\"source\":{\"id\":\"19599\"},\"start\":null,\"x_end\":{\"value\":0},\"x_start\":{\"value\":0},\"y_end\":{\"value\":1},\"y_start\":{\"value\":0}},\"id\":\"18809\",\"type\":\"Arrow\"},{\"attributes\":{\"args\":{\"source\":{\"id\":\"18807\"},\"spinner1\":{\"id\":\"18804\"},\"spinner2\":{\"id\":\"18805\"}},\"code\":\"\\n    arrowSource.data['x_end'] = [spinner1.value]\\n    arrowSource.data['y_end'] = [spinner2.value]\\n    arrowSource.change.emit()\\n\"},\"id\":\"18811\",\"type\":\"CustomJS\"},{\"attributes\":{},\"id\":\"19594\",\"type\":\"BasicTickFormatter\"},{\"attributes\":{\"coordinates\":null,\"end\":{\"id\":\"19596\"},\"group\":null,\"source\":{\"id\":\"19597\"},\"start\":null,\"x_end\":{\"value\":1},\"x_start\":{\"value\":0},\"y_end\":{\"value\":0},\"y_start\":{\"value\":0}},\"id\":\"18808\",\"type\":\"Arrow\"},{\"attributes\":{\"source\":{\"id\":\"18766\"}},\"id\":\"18803\",\"type\":\"CDSView\"}],\"root_ids\":[\"18812\"]},\"title\":\"Bokeh Application\",\"version\":\"2.4.3\"}};\n  const render_items = [{\"docid\":\"4708331d-af90-4e1e-be76-a541f70a3b8f\",\"root_ids\":[\"18812\"],\"roots\":{\"18812\":\"59d2e765-65aa-46ed-9a77-fd90b4106a1a\"}}];\n  root.Bokeh.embed.embed_items_notebook(docs_json, render_items);\n  }\n  if (root.Bokeh !== undefined) {\n    embed_document(root);\n  } else {\n    let attempts = 0;\n    const timer = setInterval(function(root) {\n      if (root.Bokeh !== undefined) {\n        clearInterval(timer);\n        embed_document(root);\n      } else {\n        attempts++;\n        if (attempts > 100) {\n          clearInterval(timer);\n          console.log(\"Bokeh: ERROR: Unable to run BokehJS code because BokehJS library is missing\");\n        }\n      }\n    }, 10, root)\n  }\n})(window);",
      "application/vnd.bokehjs_exec.v0+json": ""
     },
     "metadata": {
      "application/vnd.bokehjs_exec.v0+json": {
       "id": "18812"
      }
     },
     "output_type": "display_data"
    }
   ],
   "source": [
    "source = ColumnDataSource(data=dict(x=[1,0,1], y=[0,1,1]))\n",
    "\n",
    "plot = figure(width=400, height=400)\n",
    "plot.circle('x', 'y', source=source, line_width=3, line_alpha=0.6)\n",
    "\n",
    "spinner1 = Spinner(value=1, step = 1, width=80, title=\"Escalar 1\")\n",
    "spinner2 = Spinner(value=1, step = 1, width=80, title=\"Escalar 2\")\n",
    "\n",
    "update_tamanho = CustomJS(args=dict(source=source, spinner1=spinner1, spinner2=spinner2), code=\"\"\"\n",
    "    source.data['x'] = [spinner1.value, 0, spinner1.value]\n",
    "    source.data['y'] = [0, spinner2.value, spinner2.value]\n",
    "    source.change.emit()\n",
    "\"\"\")\n",
    "\n",
    "arrowSource = ColumnDataSource(data=dict(x_end = [1], y_end = [1]))\n",
    "plot.add_layout(Arrow(x_start = 0, x_end = spinner1.value, y_start = 0, y_end = 0 ))\n",
    "plot.add_layout(Arrow(x_start = 0, x_end = 0, y_start = 0, y_end = spinner2.value))\n",
    "plot.add_layout(Arrow(x_start = 0, x_end = spinner1.value, y_start = 0, y_end = spinner2.value))\n",
    "\n",
    "update_arrow = CustomJS(args=dict(source=arrowSource, spinner1=spinner1, spinner2=spinner2), code=\"\"\"\n",
    "    arrowSource.data['x_end'] = [spinner1.value]\n",
    "    arrowSource.data['y_end'] = [spinner2.value]\n",
    "    arrowSource.change.emit()\n",
    "\"\"\")\n",
    "\n",
    "spinner2.js_on_change('value', update_tamanho)\n",
    "spinner1.js_on_change('value', update_tamanho)\n",
    "spinner2.js_on_change('value', update_arrow)\n",
    "spinner1.js_on_change('value', update_arrow)\n",
    "\n",
    "show(column(spinner1, spinner2, plot))"
   ]
  },
  {
   "cell_type": "code",
   "execution_count": 222,
   "metadata": {},
   "outputs": [
    {
     "name": "stdout",
     "output_type": "stream",
     "text": [
      "Note: you may need to restart the kernel to use updated packages.\n"
     ]
    }
   ],
   "source": [
    "%pip install -q ipywidgets==8.0.7"
   ]
  },
  {
   "cell_type": "code",
   "execution_count": 223,
   "metadata": {},
   "outputs": [
    {
     "data": {
      "application/vnd.jupyter.widget-view+json": {
       "model_id": "a7b6dd98706d4f20b26f930f84107b54",
       "version_major": 2,
       "version_minor": 0
      },
      "text/plain": [
       "interactive(children=(FloatText(value=1.0, description='Escalar 1:'), FloatText(value=1.0, description='Escala…"
      ]
     },
     "metadata": {},
     "output_type": "display_data"
    },
    {
     "data": {
      "text/plain": [
       "<function __main__.setas(escalar1, escalar2)>"
      ]
     },
     "execution_count": 223,
     "metadata": {},
     "output_type": "execute_result"
    }
   ],
   "source": [
    "import matplotlib.pyplot as plt\n",
    "from ipywidgets import interact\n",
    "import ipywidgets as widgets\n",
    "\n",
    "def setas(escalar1, escalar2):\n",
    "    plt.arrow(0, 0, escalar1, 0, width = 0.01, color = 'red', length_includes_head = True, head_width = 0.03)\n",
    "    plt.arrow(0, 0, 0, escalar2, width = 0.01, color = 'black', length_includes_head = True, head_width = 0.03)\n",
    "    plt.arrow(0, 0, escalar1, escalar2, width = 0.01, length_includes_head = True, head_width = 0.03)\n",
    "    plt.show()\n",
    "\n",
    "interact(setas, escalar1 = widgets.FloatText(value = 1, description = 'Escalar 1:', disabled = False), escalar2 = widgets.FloatText(value = 1, description = 'Escalar 2:', disabled = False))"
   ]
  },
  {
   "cell_type": "code",
   "execution_count": 224,
   "metadata": {},
   "outputs": [
    {
     "data": {
      "application/vnd.jupyter.widget-view+json": {
       "model_id": "0b72fbb0c65f4928b48cda5c3522f332",
       "version_major": 2,
       "version_minor": 0
      },
      "text/plain": [
       "interactive(children=(FloatText(value=1.0, description='Escalar 1:'), FloatText(value=1.0, description='Escala…"
      ]
     },
     "metadata": {},
     "output_type": "display_data"
    },
    {
     "data": {
      "application/vnd.jupyter.widget-view+json": {
       "model_id": "679458ac10ac411c88fb28abb1252161",
       "version_major": 2,
       "version_minor": 0
      },
      "text/plain": [
       "interactive(children=(FloatText(value=1.0, description='Escalar 3:'), FloatText(value=1.0, description='Escala…"
      ]
     },
     "metadata": {},
     "output_type": "display_data"
    },
    {
     "data": {
      "text/plain": [
       "<function __main__.setas2(escalar3, escalar4)>"
      ]
     },
     "execution_count": 224,
     "metadata": {},
     "output_type": "execute_result"
    }
   ],
   "source": [
    "import matplotlib.pyplot as plt\n",
    "from ipywidgets import interact\n",
    "import ipywidgets as widgets\n",
    "\n",
    "def setas1(escalar01, escalar02):\n",
    "    plt.figure(figsize=(2, 2))\n",
    "    plt.arrow(0, 0, escalar01, 0, width = 0.01, color = 'red', length_includes_head = True, head_width = 0.03)\n",
    "    plt.arrow(0, 0, 0, escalar02, width = 0.01, color = 'black', length_includes_head = True, head_width = 0.03)\n",
    "    plt.arrow(0, 0, escalar01, escalar02, width = 0.01, length_includes_head = True, head_width = 0.03)\n",
    "    plt.grid()\n",
    "    plt.show()\n",
    "\n",
    "interact(setas1, escalar01 = widgets.FloatText(value = 1, description = 'Escalar 1:', disabled = False), escalar02 = widgets.FloatText(value = 1, description = 'Escalar 2:', disabled = False))\n",
    "\n",
    "def setas2(escalar3, escalar4):\n",
    "    plt.figure(figsize=(2, 2))\n",
    "    plt.arrow(0, 0, 4*escalar3, 3*escalar3, width = escalar3*(0.03), color = 'red', length_includes_head = True, head_width = escalar3*(0.08))\n",
    "    plt.arrow(0, 0, 0, 2*escalar4, width = escalar3*(0.03), color = 'black', length_includes_head = True, head_width = escalar3*(0.08))\n",
    "    plt.arrow(0, 0, 4*escalar3, 3*escalar3 + 2*escalar4, width = escalar3*(0.03), length_includes_head = True, head_width = escalar3*(0.08))\n",
    "    plt.grid()\n",
    "    plt.show()\n",
    "\n",
    "interact(setas2, escalar3 = widgets.FloatText(value = 1, description = 'Escalar 3:', disabled = False), escalar4 = widgets.FloatText(value = 1, description = 'Escalar 4:', disabled = False))"
   ]
  }
 ],
 "metadata": {
  "kernelspec": {
   "display_name": "Python 3 (ipykernel)",
   "language": "python",
   "name": "python3"
  },
  "language_info": {
   "codemirror_mode": {
    "name": "ipython",
    "version": 3
   },
   "file_extension": ".py",
   "mimetype": "text/x-python",
   "name": "python",
   "nbconvert_exporter": "python",
   "pygments_lexer": "ipython3",
   "version": "3.9.16"
  }
 },
 "nbformat": 4,
 "nbformat_minor": 4
}
